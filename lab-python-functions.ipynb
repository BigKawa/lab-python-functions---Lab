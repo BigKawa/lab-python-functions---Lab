{
 "cells": [
  {
   "cell_type": "markdown",
   "id": "25d7736c-ba17-4aff-b6bb-66eba20fbf4e",
   "metadata": {},
   "source": [
    "# Lab | Functions"
   ]
  },
  {
   "cell_type": "markdown",
   "id": "0c581062-8967-4d93-b06e-62833222f930",
   "metadata": {
    "tags": []
   },
   "source": [
    "## Exercise: Managing Customer Orders with Functions\n",
    "\n",
    "In the previous exercise, you improved the code for managing customer orders by using loops and flow control. Now, let's take it a step further and refactor the code by introducing functions.\n",
    "\n",
    "Follow the steps below to complete the exercise:\n",
    "\n",
    "1. Define a function named `initialize_inventory` that takes `products` as a parameter. Inside the function, implement the code for initializing the inventory dictionary using a loop and user input.\n",
    "\n",
    "2. Define a function named `get_customer_orders` that takes no parameters. Inside the function, implement the code for prompting the user to enter the product names using a loop. The function should return the `customer_orders` set.\n",
    "\n",
    "3. Define a function named `update_inventory` that takes `customer_orders` and `inventory` as parameters. Inside the function, implement the code for updating the inventory dictionary based on the customer orders.\n",
    "\n",
    "4. Define a function named `calculate_order_statistics` that takes `customer_orders` and `products` as parameters. Inside the function, implement the code for calculating the order statistics (total products ordered, and percentage of unique products ordered). The function should return these values.\n",
    "\n",
    "5. Define a function named `print_order_statistics` that takes `order_statistics` as a parameter. Inside the function, implement the code for printing the order statistics.\n",
    "\n",
    "6. Define a function named `print_updated_inventory` that takes `inventory` as a parameter. Inside the function, implement the code for printing the updated inventory.\n",
    "\n",
    "7. Call the functions in the appropriate sequence to execute the program and manage customer orders.\n",
    "\n",
    "Hints for functions:\n",
    "\n",
    "- Consider the input parameters required for each function and their return values.\n",
    "- Utilize function parameters and return values to transfer data between functions.\n",
    "- Test your functions individually to ensure they work correctly.\n",
    "\n",
    "\n"
   ]
  },
  {
   "cell_type": "code",
   "execution_count": 25,
   "id": "bf6a42e7-8d9a-4d42-b566-ad805211acae",
   "metadata": {},
   "outputs": [],
   "source": [
    "products = [\"t-shirt\", \"mug\", \"hat\", \"book\", \"keychain\"]\n",
    "\n",
    "\n",
    "def initialize_inventory(products):\n",
    "    inventory = {}\n",
    "    for i in range(len(products)): #  \n",
    "        user_input = int(input(F\"What is the quantity of {products[i]}\"))\n",
    "        inventory[products[i]] = user_input\n",
    "    return inventory\n"
   ]
  },
  {
   "cell_type": "markdown",
   "id": "2b2f2f80-df61-43ff-8ff1-87d559d0b7d0",
   "metadata": {},
   "source": [
    "\"\"\"NOT IN USE \"\"\"\n",
    "\n",
    "for i in range(len(products)): #  \n",
    "    user_input = int(input(F\"What is the quantity of {products[i]}\"))\n",
    "    inventory[products[i]] = user_input"
   ]
  },
  {
   "cell_type": "code",
   "execution_count": 136,
   "id": "20137a3b-d1f0-49ab-bae7-cca62a4d2ad6",
   "metadata": {},
   "outputs": [],
   "source": [
    "\n",
    "def get_customer_orders(): #  get customer orders and returning them\n",
    "    still_ordering = True\n",
    "    customer_orders = set()\n",
    "    while still_ordering:\n",
    "        order = input(F\"What do you want to order something from {products} ?\").lower().strip()\n",
    "        customer_orders.add(order)\n",
    "        still_order_input = input(F\"Do you still want to order? Yes/No\").lower().strip()\n",
    "        if still_order_input == \"no\":\n",
    "            still_ordering = False\n",
    "    return customer_orders\n",
    "\n",
    "def update_inventory(orders, inventory): # updating inventory and returning new inventory\n",
    "    for x in orders:\n",
    "        if x in inventory:\n",
    "            inventory[x] -= 1\n",
    "    return inventory\n",
    "\n",
    "def calculate_order_statistics(orders, products):\n",
    "    total_products_ordered = len(orders) # Counting orders of arg: \"order\"\n",
    "    total_unique_products = len(products)\n",
    "    percentage = total_products_ordered/total_unique_products*100\n",
    "    return total_products_ordered, total_unique_products, percentage\n",
    "\n",
    "def print_order_statistic(statistic):\n",
    "    print(F\" Total Products Ordered : {statistic[0]}\")\n",
    "    print(F\" Percentage of unique Products Ordered : {statistic[2]} %\")\n",
    "\n",
    "def print_updatet_inventory(inventory):\n",
    "    print(F\"New inventory:\")\n",
    "    for key in inventory:\n",
    "        print(F\"{key} : {inventory[key]}\")\n",
    "    \n",
    "    \n"
   ]
  },
  {
   "cell_type": "code",
   "execution_count": 98,
   "id": "ef07d031-0451-47eb-9fa3-f7f929fa1a7d",
   "metadata": {},
   "outputs": [
    {
     "name": "stdin",
     "output_type": "stream",
     "text": [
      "What is the quantity of t-shirt 5\n",
      "What is the quantity of mug 5\n",
      "What is the quantity of hat 5\n",
      "What is the quantity of book 5\n",
      "What is the quantity of keychain 5\n"
     ]
    }
   ],
   "source": [
    "inventory = initialize_inventory(products) # Calling initialize Inventory and assigning Amounts"
   ]
  },
  {
   "cell_type": "code",
   "execution_count": 110,
   "id": "63151760-dba3-4fc4-b1e0-442f41ccdf45",
   "metadata": {},
   "outputs": [
    {
     "name": "stdin",
     "output_type": "stream",
     "text": [
      "What do you want to order something from ['t-shirt', 'mug', 'hat', 'book', 'keychain'] ? mug\n",
      "Do you still want to order? Yes/No no\n"
     ]
    }
   ],
   "source": [
    "customer_oders = get_customer_orders() # calling get orders and saving into a variable"
   ]
  },
  {
   "cell_type": "code",
   "execution_count": 92,
   "id": "a93c98b8-c17e-496a-a12c-f977815da746",
   "metadata": {},
   "outputs": [],
   "source": [
    "inventory = update_inventory(customer_oders, inventory) # Calling new inventory and overwriting in the old variable"
   ]
  },
  {
   "cell_type": "code",
   "execution_count": 118,
   "id": "640603d6-087c-4fd3-8435-5c5399a83ddf",
   "metadata": {},
   "outputs": [],
   "source": [
    "order_statistic = calculate_order_statistics(customer_oders, inventory) # Create a order Statistic as a tuple"
   ]
  },
  {
   "cell_type": "code",
   "execution_count": 126,
   "id": "76fe03a1-3129-44b3-ad4e-2118d4e121fe",
   "metadata": {},
   "outputs": [
    {
     "name": "stdout",
     "output_type": "stream",
     "text": [
      " Total Products Ordered : 1\n",
      " Percentage of unique Products Ordered : 20.0 %\n"
     ]
    }
   ],
   "source": [
    "print_order_statistic(order_statistic) # Print statistic"
   ]
  },
  {
   "cell_type": "code",
   "execution_count": 140,
   "id": "33342e93-a50b-4f6d-9516-7320094994fd",
   "metadata": {},
   "outputs": [
    {
     "name": "stdout",
     "output_type": "stream",
     "text": [
      "New inventory:\n",
      "t-shirt : 5\n",
      "mug : 5\n",
      "hat : 5\n",
      "book : 5\n",
      "keychain : 5\n"
     ]
    }
   ],
   "source": [
    "print_updatet_inventory(inventory) # Print updatet inventory"
   ]
  },
  {
   "cell_type": "code",
   "execution_count": null,
   "id": "9416bda4-381a-4abb-bc93-2b37315cc85f",
   "metadata": {},
   "outputs": [],
   "source": []
  }
 ],
 "metadata": {
  "kernelspec": {
   "display_name": "Python 3 (ipykernel)",
   "language": "python",
   "name": "python3"
  },
  "language_info": {
   "codemirror_mode": {
    "name": "ipython",
    "version": 3
   },
   "file_extension": ".py",
   "mimetype": "text/x-python",
   "name": "python",
   "nbconvert_exporter": "python",
   "pygments_lexer": "ipython3",
   "version": "3.12.4"
  }
 },
 "nbformat": 4,
 "nbformat_minor": 5
}
